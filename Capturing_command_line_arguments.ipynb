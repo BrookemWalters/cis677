{
  "cells": [
    {
      "cell_type": "markdown",
      "metadata": {
        "colab_type": "text",
        "id": "view-in-github"
      },
      "source": [
        "<a href=\"https://colab.research.google.com/github/trefftzc/cis677/blob/main/Capturing_command_line_arguments.ipynb\" target=\"_parent\"><img src=\"https://colab.research.google.com/assets/colab-badge.svg\" alt=\"Open In Colab\"/></a>"
      ]
    },
    {
      "cell_type": "markdown",
      "metadata": {
        "id": "LWkYZymRmodY"
      },
      "source": [
        "\n",
        "#Capturing command line arguments\n",
        "Sometimes it is important to capture values from the command line in python."
      ]
    },
    {
      "cell_type": "code",
      "execution_count": 1,
      "metadata": {
        "colab": {
          "base_uri": "https://localhost:8080/"
        },
        "id": "e6ekWLyfmc4j",
        "outputId": "7324b2b7-289e-470e-d0f2-8d55d293de5c"
      },
      "outputs": [
        {
          "name": "stdout",
          "output_type": "stream",
          "text": [
            "Overwriting sample.py\n"
          ]
        }
      ],
      "source": [
        "%%writefile sample.py\n",
        "\n",
        "import sys\n",
        "\n",
        "print(\"There were these many parameters paassed in the command line: \",len(sys.argv))\n",
        "print(\"And they are: \",sys.argv)\n"
      ]
    },
    {
      "cell_type": "code",
      "execution_count": 2,
      "metadata": {
        "colab": {
          "base_uri": "https://localhost:8080/"
        },
        "id": "w4RnmQpYnf7r",
        "outputId": "5977f1fe-6224-480f-f93b-409e2cbf3d13"
      },
      "outputs": [
        {
          "name": "stdout",
          "output_type": "stream",
          "text": [
            "There were these many parameters paassed in the command line:  3\n",
            "And they are:  ['sample.py', 'a', 'b']\n"
          ]
        },
        {
          "ename": "",
          "evalue": "",
          "output_type": "error",
          "traceback": [
            "\u001b[1;31mThe Kernel crashed while executing code in the the current cell or a previous cell. Please review the code in the cell(s) to identify a possible cause of the failure. Click <a href='https://aka.ms/vscodeJupyterKernelCrash'>here</a> for more info. View Jupyter <a href='command:jupyter.viewOutput'>log</a> for further details."
          ]
        }
      ],
      "source": [
        "!python sample.py a b"
      ]
    },
    {
      "cell_type": "markdown",
      "metadata": {
        "id": "Onq3Ga19nwyF"
      },
      "source": [
        "And we can capture numbers and operate on those numbers that have been passed on the command line:"
      ]
    },
    {
      "cell_type": "code",
      "execution_count": 7,
      "metadata": {
        "colab": {
          "base_uri": "https://localhost:8080/"
        },
        "id": "y1AzXtvpn2QM",
        "outputId": "b7448014-b37b-4db5-9631-8ef55f2bc6c9"
      },
      "outputs": [
        {
          "name": "stdout",
          "output_type": "stream",
          "text": [
            "Overwriting sample2.py\n"
          ]
        }
      ],
      "source": [
        "%%writefile sample2.py\n",
        "\n",
        "import sys\n",
        "\n",
        "print(\"There were these many parameters paassed in the command line: \",len(sys.argv))\n",
        "print(\"And they are: \",sys.argv)\n",
        "sum = int(sys.argv[1]) + int(sys.argv[2])\n",
        "print(sum)"
      ]
    },
    {
      "cell_type": "code",
      "execution_count": 9,
      "metadata": {
        "colab": {
          "base_uri": "https://localhost:8080/"
        },
        "id": "-T7f1J_poDcM",
        "outputId": "13971567-6367-49cb-bada-5d3c6b1f8752"
      },
      "outputs": [
        {
          "name": "stdout",
          "output_type": "stream",
          "text": [
            "There were these many parameters paassed in the command line:  3\n",
            "And they are:  ['sample2.py', '10', '20']\n",
            "30\n"
          ]
        }
      ],
      "source": [
        "!python sample2.py 10 20"
      ]
    }
  ],
  "metadata": {
    "colab": {
      "authorship_tag": "ABX9TyOoOBrS0meZmYLjvQLTvHsx",
      "include_colab_link": true,
      "provenance": []
    },
    "kernelspec": {
      "display_name": "Python 3",
      "name": "python3"
    },
    "language_info": {
      "codemirror_mode": {
        "name": "ipython",
        "version": 3
      },
      "file_extension": ".py",
      "mimetype": "text/x-python",
      "name": "python",
      "nbconvert_exporter": "python",
      "pygments_lexer": "ipython3",
      "version": "3.10.11"
    }
  },
  "nbformat": 4,
  "nbformat_minor": 0
}
