{
  "nbformat": 4,
  "nbformat_minor": 0,
  "metadata": {
    "colab": {
      "provenance": [],
      "authorship_tag": "ABX9TyOoOBrS0meZmYLjvQLTvHsx",
      "include_colab_link": true
    },
    "kernelspec": {
      "name": "python3",
      "display_name": "Python 3"
    },
    "language_info": {
      "name": "python"
    }
  },
  "cells": [
    {
      "cell_type": "markdown",
      "metadata": {
        "id": "view-in-github",
        "colab_type": "text"
      },
      "source": [
        "<a href=\"https://colab.research.google.com/github/trefftzc/cis677/blob/main/Capturing_command_line_arguments.ipynb\" target=\"_parent\"><img src=\"https://colab.research.google.com/assets/colab-badge.svg\" alt=\"Open In Colab\"/></a>"
      ]
    },
    {
      "cell_type": "markdown",
      "source": [
        "\n",
        "#Capturing command line arguments\n",
        "Sometimes it is important to capture values from the command line in python."
      ],
      "metadata": {
        "id": "LWkYZymRmodY"
      }
    },
    {
      "cell_type": "code",
      "execution_count": 4,
      "metadata": {
        "colab": {
          "base_uri": "https://localhost:8080/"
        },
        "id": "e6ekWLyfmc4j",
        "outputId": "7324b2b7-289e-470e-d0f2-8d55d293de5c"
      },
      "outputs": [
        {
          "output_type": "stream",
          "name": "stdout",
          "text": [
            "Overwriting sample.py\n"
          ]
        }
      ],
      "source": [
        "%%writefile sample.py\n",
        "\n",
        "import sys\n",
        "\n",
        "print(\"There were these many parameters paassed in the command line: \",len(sys.argv))\n",
        "print(\"And they are: \",sys.argv)\n"
      ]
    },
    {
      "cell_type": "code",
      "source": [
        "!python sample.py a b"
      ],
      "metadata": {
        "colab": {
          "base_uri": "https://localhost:8080/"
        },
        "id": "w4RnmQpYnf7r",
        "outputId": "5977f1fe-6224-480f-f93b-409e2cbf3d13"
      },
      "execution_count": 5,
      "outputs": [
        {
          "output_type": "stream",
          "name": "stdout",
          "text": [
            "There were these many parameters paassed in the command line:  3\n",
            "And they are:  ['sample.py', 'a', 'b']\n"
          ]
        }
      ]
    },
    {
      "cell_type": "markdown",
      "source": [
        "And we can capture numbers and operate on those numbers that have been passed on the command line:"
      ],
      "metadata": {
        "id": "Onq3Ga19nwyF"
      }
    },
    {
      "cell_type": "code",
      "source": [
        "%%writefile sample2.py\n",
        "\n",
        "import sys\n",
        "\n",
        "print(\"There were these many parameters paassed in the command line: \",len(sys.argv))\n",
        "print(\"And they are: \",sys.argv)\n",
        "sum = int(sys.argv[1]) + int(sys.argv[2])\n",
        "print(sum)"
      ],
      "metadata": {
        "colab": {
          "base_uri": "https://localhost:8080/"
        },
        "id": "y1AzXtvpn2QM",
        "outputId": "b7448014-b37b-4db5-9631-8ef55f2bc6c9"
      },
      "execution_count": 7,
      "outputs": [
        {
          "output_type": "stream",
          "name": "stdout",
          "text": [
            "Overwriting sample2.py\n"
          ]
        }
      ]
    },
    {
      "cell_type": "code",
      "source": [
        "!python sample2.py 10 20"
      ],
      "metadata": {
        "colab": {
          "base_uri": "https://localhost:8080/"
        },
        "id": "-T7f1J_poDcM",
        "outputId": "13971567-6367-49cb-bada-5d3c6b1f8752"
      },
      "execution_count": 9,
      "outputs": [
        {
          "output_type": "stream",
          "name": "stdout",
          "text": [
            "There were these many parameters paassed in the command line:  3\n",
            "And they are:  ['sample2.py', '10', '20']\n",
            "30\n"
          ]
        }
      ]
    }
  ]
}