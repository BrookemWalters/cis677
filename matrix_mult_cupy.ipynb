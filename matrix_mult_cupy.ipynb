{
  "nbformat": 4,
  "nbformat_minor": 0,
  "metadata": {
    "colab": {
      "provenance": [],
      "gpuType": "T4",
      "authorship_tag": "ABX9TyPmUbs6PCH2lJiJHYBrhjkR",
      "include_colab_link": true
    },
    "kernelspec": {
      "name": "python3",
      "display_name": "Python 3"
    },
    "language_info": {
      "name": "python"
    },
    "accelerator": "GPU"
  },
  "cells": [
    {
      "cell_type": "markdown",
      "metadata": {
        "id": "view-in-github",
        "colab_type": "text"
      },
      "source": [
        "<a href=\"https://colab.research.google.com/github/trefftzc/cis677/blob/main/matrix_mult_cupy.ipynb\" target=\"_parent\"><img src=\"https://colab.research.google.com/assets/colab-badge.svg\" alt=\"Open In Colab\"/></a>"
      ]
    },
    {
      "cell_type": "markdown",
      "source": [
        "# CUPY\n",
        "CuPy is a drop-in replacement for numpy that works on NVIDA GPUs.\n",
        "\n",
        "CuPy is installed on COLAB.\n",
        "\n",
        "Here is a previous example of a small matrix multiplication where the calls to numpy have been replaced by calls to CuPy."
      ],
      "metadata": {
        "id": "uwsUKlPAIHcU"
      }
    },
    {
      "cell_type": "markdown",
      "source": [],
      "metadata": {
        "id": "W7TG7DdCIFO0"
      }
    },
    {
      "cell_type": "code",
      "execution_count": 2,
      "metadata": {
        "colab": {
          "base_uri": "https://localhost:8080/"
        },
        "id": "oNMp-pXCHwKN",
        "outputId": "2c499654-96b9-4fcc-a7d5-aa9567c4d57b"
      },
      "outputs": [
        {
          "output_type": "stream",
          "name": "stdout",
          "text": [
            "Time required to carry out the computation:  0.0005347728729248047\n"
          ]
        }
      ],
      "source": [
        "#\n",
        "# Now with cupy\n",
        "#\n",
        "import time\n",
        "import cupy as cp\n",
        "\n",
        "A = [[1,2,3,4,5],\n",
        "  [6,7,8,9,10],\n",
        "  [11,12,13,14,15],\n",
        "  [16,17,18,19,20],\n",
        "  [21,22,23,24,25]]\n",
        "\n",
        "B = [[1,6,11,16,21],\n",
        "     [2,7,12,17,22],\n",
        "     [3,8,13,18,23],\n",
        "     [4,9,14,19,24],\n",
        "     [5,10,15,20,25]]\n",
        "\n",
        "C = [[0,0,0,0,0],\n",
        "     [0,0,0,0,0],\n",
        "     [0,0,0,0,0],\n",
        "     [0,0,0,0,0],\n",
        "     [0,0,0,0,0]]\n",
        "\n",
        "N = 5\n",
        "\n",
        "A_cupy = cp.array(A)\n",
        "B_cupy = cp.array(B)\n",
        "C_cupy = cp.array(C)\n",
        "\n",
        "start_time = time.time()\n",
        "\n",
        "C_cupy = cp.matmul(A_cupy,B_cupy)\n",
        "\n",
        "end_time = time.time()\n",
        "elapsed_time = end_time - start_time\n",
        "print(\"Time required to carry out the computation: \",elapsed_time)\n"
      ]
    }
  ]
}