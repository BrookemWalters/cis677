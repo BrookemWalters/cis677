{
  "nbformat": 4,
  "nbformat_minor": 0,
  "metadata": {
    "colab": {
      "provenance": [],
      "authorship_tag": "ABX9TyPKiuDGAHrl03YZEgp9j52p",
      "include_colab_link": true
    },
    "kernelspec": {
      "name": "python3",
      "display_name": "Python 3"
    },
    "language_info": {
      "name": "python"
    }
  },
  "cells": [
    {
      "cell_type": "markdown",
      "metadata": {
        "id": "view-in-github",
        "colab_type": "text"
      },
      "source": [
        "<a href=\"https://colab.research.google.com/github/trefftzc/cis677/blob/main/CreatingARandomMatrixWithNumpy.ipynb\" target=\"_parent\"><img src=\"https://colab.research.google.com/assets/colab-badge.svg\" alt=\"Open In Colab\"/></a>"
      ]
    },
    {
      "cell_type": "markdown",
      "source": [
        "# Creating a random matrix with numpy\n",
        "\n",
        "Numpy allows one to create a matrix with random values of whatever size we want.\n",
        "The example belows creates a random matrix with 5 rows and 5 columns.\n",
        "\n",
        "The entries are real numbers with values between 0.0 and 1.0."
      ],
      "metadata": {
        "id": "0JyYVGcap4fT"
      }
    },
    {
      "cell_type": "code",
      "source": [
        "import numpy as np\n",
        "\n",
        "random_matrix = np.random.rand(5,5)\n",
        "\n",
        "print(random_matrix)"
      ],
      "metadata": {
        "colab": {
          "base_uri": "https://localhost:8080/"
        },
        "id": "N8Me1kCco84T",
        "outputId": "b70cc584-5e69-44c1-99f1-8853a60a0dc7"
      },
      "execution_count": 3,
      "outputs": [
        {
          "output_type": "stream",
          "name": "stdout",
          "text": [
            "[[0.64462702 0.03324329 0.93268421 0.59318664 0.91005446]\n",
            " [0.45239344 0.52241418 0.772352   0.48721681 0.30955809]\n",
            " [0.91088011 0.38931103 0.41068166 0.34163953 0.88182037]\n",
            " [0.01755934 0.44147512 0.94436955 0.39257273 0.98016688]\n",
            " [0.64968057 0.73459775 0.47502237 0.95704136 0.89322528]]\n"
          ]
        }
      ]
    },
    {
      "cell_type": "markdown",
      "source": [
        "Now an example with 3 rows and 2 columns:\n"
      ],
      "metadata": {
        "id": "UiLzM-XGp-62"
      }
    },
    {
      "cell_type": "code",
      "source": [
        "import numpy as np\n",
        "\n",
        "random_matrix = np.random.rand(3,2)\n",
        "\n",
        "print(random_matrix)"
      ],
      "metadata": {
        "colab": {
          "base_uri": "https://localhost:8080/"
        },
        "id": "5hBL5LtVqChY",
        "outputId": "7d1ef70b-c86b-4b33-83ce-44f993950bca"
      },
      "execution_count": 5,
      "outputs": [
        {
          "output_type": "stream",
          "name": "stdout",
          "text": [
            "[[0.03773968 0.68085703]\n",
            " [0.04404673 0.84687638]\n",
            " [0.07380223 0.04359345]]\n"
          ]
        }
      ]
    },
    {
      "cell_type": "markdown",
      "source": [
        "The individual entries can be accessed as in a regular list of lists in python"
      ],
      "metadata": {
        "id": "nicxcGKnqG4n"
      }
    },
    {
      "cell_type": "code",
      "source": [
        "import numpy as np\n",
        "\n",
        "random_matrix = np.random.rand(3,2)\n",
        "\n",
        "print(random_matrix)\n",
        "\n",
        "sum = 0.0\n",
        "for i in range(3):\n",
        "  for j in range(2):\n",
        "    sum = sum + random_matrix[i,j]\n",
        "\n",
        "print(\"The sum of all the entries is: \",sum)"
      ],
      "metadata": {
        "colab": {
          "base_uri": "https://localhost:8080/"
        },
        "id": "W0R_455yqN4K",
        "outputId": "21a06e46-b2e5-4caf-d2b2-d45ed614deb6"
      },
      "execution_count": 7,
      "outputs": [
        {
          "output_type": "stream",
          "name": "stdout",
          "text": [
            "[[0.2217694  0.14891324]\n",
            " [0.13447483 0.51669329]\n",
            " [0.42523632 0.18470458]]\n",
            "The sum of all the entries is:  1.6317916699637427\n"
          ]
        }
      ]
    }
  ]
}