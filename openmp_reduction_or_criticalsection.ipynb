{
  "nbformat": 4,
  "nbformat_minor": 0,
  "metadata": {
    "colab": {
      "provenance": [],
      "authorship_tag": "ABX9TyPC0F5LZFkPU41Ed1LewMpu",
      "include_colab_link": true
    },
    "kernelspec": {
      "name": "python3",
      "display_name": "Python 3"
    },
    "language_info": {
      "name": "python"
    }
  },
  "cells": [
    {
      "cell_type": "markdown",
      "metadata": {
        "id": "view-in-github",
        "colab_type": "text"
      },
      "source": [
        "<a href=\"https://colab.research.google.com/github/trefftzc/cis677/blob/main/openmp_reduction_or_criticalsection.ipynb\" target=\"_parent\"><img src=\"https://colab.research.google.com/assets/colab-badge.svg\" alt=\"Open In Colab\"/></a>"
      ]
    },
    {
      "cell_type": "markdown",
      "source": [
        "# Comparing reduction and critical section in Openmp\n",
        "\n",
        "In OpenMP there is support for:\n",
        "\n",
        "\n",
        "1.   Reduction operations in for statements\n",
        "2.   Critical sections\n",
        "\n",
        "There are cases when it is possible to achieve the same goals by using either one of two alternatives:\n",
        "\n",
        "1. Using a reduction and then looking for the element of interest\n",
        "2. Using a critical section\n",
        "\n",
        "This example illustratest both alternatives.\n",
        "\n"
      ],
      "metadata": {
        "id": "-m8WC5eo38KO"
      }
    },
    {
      "cell_type": "code",
      "execution_count": 5,
      "metadata": {
        "colab": {
          "base_uri": "https://localhost:8080/"
        },
        "id": "PIH54S2E37Oq",
        "outputId": "f1f1d049-926d-4b97-87d4-5f0772ed6ff1"
      },
      "outputs": [
        {
          "output_type": "stream",
          "name": "stdout",
          "text": [
            "Overwriting reduc_vs_critical.cc\n"
          ]
        }
      ],
      "source": [
        "%%writefile reduc_vs_critical.cc\n",
        "//\n",
        "// Comparing reduce vs. critical section in OpenMP\n",
        "// Create a vector of integers with 10,000,000 entries\n",
        "// Fill with random integer positive values\n",
        "// Find the largest element and its position in the vector\n",
        "// Use two different approaches:\n",
        "// 1. Perform a reduction and then look for the entry\n",
        "// 2. Use a critical section to update the max value and its entry\n",
        "// Time the different parts of the code\n",
        "//\n",
        "#include <omp.h>\n",
        "#include <cstdlib>\n",
        "#include <float.h>\n",
        "#include <algorithm>\n",
        "#include <iostream>\n",
        "#include <vector>\n",
        "\n",
        "const int SIZE = 10000000;\n",
        "int main(int argc,char *argv[])\n",
        "{\n",
        "  std::vector < int > array(SIZE);\n",
        "\n",
        "  double startGenerating,endGenerating;\n",
        "  startGenerating = omp_get_wtime();\n",
        "#pragma omp parallel for\n",
        "  for(int i = 0;i < SIZE;i++) {\n",
        "    array[i] = rand();\n",
        "  }\n",
        "  endGenerating = omp_get_wtime();\n",
        "\n",
        "  // Now compare two approaches to finding\n",
        "  // the largest element in the array\n",
        "  // 1. Perform a reduction and then find the corresponding element\n",
        "  // 2. Use a critical section\n",
        "  double startReduction,endReduction;\n",
        "  startReduction = omp_get_wtime();\n",
        "  int maxValue = 0;\n",
        "#pragma omp parallel for reduction(max:maxValue)\n",
        "  for(int i = 0;i < SIZE;i++) {\n",
        "    maxValue = std::max(maxValue,array[i]);\n",
        "  }\n",
        "  endReduction = omp_get_wtime();\n",
        "  double startFindMaxEntry,endFindMaxEntry;\n",
        "  startFindMaxEntry = omp_get_wtime();\n",
        "  int maxIndex = -1;\n",
        "  for(int i = 0;i < SIZE;i++) {\n",
        "    if (array[i] == maxValue) {\n",
        "      maxIndex = i;\n",
        "      break;\n",
        "    }\n",
        "  }\n",
        "  endFindMaxEntry = omp_get_wtime();\n",
        "  std::cout << \"Max value: \" << maxValue\n",
        "       << \" at position: \" << maxIndex << std::endl;\n",
        "  double startCriticalSection,endCriticalSection;\n",
        "  startCriticalSection = omp_get_wtime();\n",
        "  maxIndex = -1;\n",
        "  maxValue = 0;\n",
        "#pragma omp parallel for shared(maxValue,maxIndex)\n",
        "  for(int i = 0;i < SIZE;i++) {\n",
        "    #pragma omp critical\n",
        "    if (array[i] > maxValue)\n",
        "      {\n",
        "      maxValue = array[i];\n",
        "      maxIndex = i;\n",
        "      }\n",
        "  }\n",
        "  endCriticalSection = omp_get_wtime();\n",
        "  std::cout << \"Max value: \" << maxValue\n",
        "\t    << \" at position: \" << maxIndex << std::endl;\n",
        "  std::cout << \"Times: \" << std::endl;\n",
        "  std::cout << \"Generation: \" << (endGenerating - startGenerating)\n",
        "\t    << std::endl;\n",
        "  std::cout << \"Reduction: \" << (endReduction - startReduction)\n",
        "\t    << std::endl;\n",
        "  std::cout << \"FindMaxEntry: \" << (endFindMaxEntry - startFindMaxEntry)\n",
        "\t    << std::endl;\n",
        "  std::cout << \"Reduction + FindMaxEntry: \" <<\n",
        "    (endReduction - startReduction)+(endFindMaxEntry - startFindMaxEntry)\n",
        "\t    <<std::endl;\n",
        "  std::cout << \"Critical Section: \" << (endCriticalSection - startCriticalSection)\n",
        "\t    << std::endl;\n",
        "}\n"
      ]
    },
    {
      "cell_type": "code",
      "source": [
        "!g++ reduc_vs_critical.cc -o reduc_vs_critical -fopenmp -O3"
      ],
      "metadata": {
        "id": "25zL9KOf4MF1"
      },
      "execution_count": 6,
      "outputs": []
    },
    {
      "cell_type": "code",
      "source": [
        "!./reduc_vs_critical"
      ],
      "metadata": {
        "colab": {
          "base_uri": "https://localhost:8080/"
        },
        "id": "9TpWkT9J4TbE",
        "outputId": "ed1697ba-e6b3-41ce-d916-f385e1a6bc29"
      },
      "execution_count": 7,
      "outputs": [
        {
          "output_type": "stream",
          "name": "stdout",
          "text": [
            "Max value: 2147483025 at position: 9105544\n",
            "Max value: 2147483025 at position: 9105544\n",
            "Times: \n",
            "Generation: 0.60772\n",
            "Reduction: 0.0033957\n",
            "FindMaxEntry: 0.0090946\n",
            "Reduction + FindMaxEntry: 0.0124903\n",
            "Critical Section: 0.197501\n"
          ]
        }
      ]
    }
  ]
}