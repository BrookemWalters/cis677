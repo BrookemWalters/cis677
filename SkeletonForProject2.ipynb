{
  "nbformat": 4,
  "nbformat_minor": 0,
  "metadata": {
    "colab": {
      "provenance": [],
      "authorship_tag": "ABX9TyOkxihAEZrWD77uAZ4nZd0h",
      "include_colab_link": true
    },
    "kernelspec": {
      "name": "python3",
      "display_name": "Python 3"
    },
    "language_info": {
      "name": "python"
    }
  },
  "cells": [
    {
      "cell_type": "markdown",
      "metadata": {
        "id": "view-in-github",
        "colab_type": "text"
      },
      "source": [
        "<a href=\"https://colab.research.google.com/github/trefftzc/cis677/blob/main/SkeletonForProject2.ipynb\" target=\"_parent\"><img src=\"https://colab.research.google.com/assets/colab-badge.svg\" alt=\"Open In Colab\"/></a>"
      ]
    },
    {
      "cell_type": "markdown",
      "source": [
        "A skeleton for project 2. CIS677 - Winter 2024"
      ],
      "metadata": {
        "id": "dcR29tnUyN97"
      }
    },
    {
      "cell_type": "code",
      "execution_count": null,
      "metadata": {
        "colab": {
          "base_uri": "https://localhost:8080/"
        },
        "id": "CK14ALnkyFRb",
        "outputId": "2a60d7f0-3f9c-478c-f1a2-cae2fa116e9f"
      },
      "outputs": [
        {
          "output_type": "stream",
          "name": "stdout",
          "text": [
            "Overwriting project2.py\n"
          ]
        }
      ],
      "source": [
        "%%writefile project2.py\n",
        "import sys\n",
        "import numpy as np\n",
        "import time\n",
        "\n",
        "\n",
        "#\n",
        "# You need to import the numba library\n",
        "#\n",
        "\n",
        "\n",
        "# You need to use the appropriate deccorators before\n",
        "# the function generate_and_multiply\n",
        "\n",
        "def generate_and_multiply(n):\n",
        "  a = np.random.rand(n,n)\n",
        "  b = np.random.rand(n,n)\n",
        "  c = np.zeros((n,n))\n",
        "\n",
        "\n",
        "# Use prange to parallelize the execution of one of these loops\n",
        "\n",
        "  for i in range(n):\n",
        "    for j in range(n):\n",
        "      for k in range(n):\n",
        "        c[i][j] += a[i][k]*b[k][j]\n",
        "\n",
        "\n",
        "\n",
        "\n",
        "\n",
        "if __name__ == \"__main__\":\n",
        "  # capture the size of the matrices\n",
        "  n = (int)(sys.argv[1])\n",
        "  start_time = time.time()\n",
        "  # generate and multiply the matrices\n",
        "  generate_and_multiply(n)\n",
        "  end_time = time.time()\n",
        "  elapsed_time = end_time - start_time\n",
        "  print(\"Time required to carry out the computation: \",elapsed_time)\n",
        "  generate_and_multiply(n)"
      ]
    },
    {
      "cell_type": "code",
      "source": [
        "!python project2.py 100"
      ],
      "metadata": {
        "colab": {
          "base_uri": "https://localhost:8080/"
        },
        "id": "Pf1Pow9LzldT",
        "outputId": "ecac372c-b505-4a9c-fab7-c1070cb6f4a0"
      },
      "execution_count": null,
      "outputs": [
        {
          "output_type": "stream",
          "name": "stdout",
          "text": [
            "Time required to carry out the computation:  1.4282426834106445\n"
          ]
        }
      ]
    },
    {
      "cell_type": "code",
      "source": [
        "!python project2.py 200"
      ],
      "metadata": {
        "colab": {
          "base_uri": "https://localhost:8080/"
        },
        "id": "lpAbOBkx0jqT",
        "outputId": "0d8ecc5b-45bb-4231-b2af-18f224687434"
      },
      "execution_count": null,
      "outputs": [
        {
          "output_type": "stream",
          "name": "stdout",
          "text": [
            "Time required to carry out the computation:  1.4483697414398193\n"
          ]
        }
      ]
    },
    {
      "cell_type": "code",
      "source": [
        "!python project2.py 300"
      ],
      "metadata": {
        "colab": {
          "base_uri": "https://localhost:8080/"
        },
        "id": "FWkBxPxA0oo7",
        "outputId": "d55bb079-e7cd-49ef-e891-060f879b131d"
      },
      "execution_count": null,
      "outputs": [
        {
          "output_type": "stream",
          "name": "stdout",
          "text": [
            "Time required to carry out the computation:  1.847395420074463\n"
          ]
        }
      ]
    },
    {
      "cell_type": "code",
      "source": [
        "!python project2.py 400"
      ],
      "metadata": {
        "id": "16IO_Q5Z02jq",
        "outputId": "0c148ef8-55d8-4e50-bcbb-880fe72efd34",
        "colab": {
          "base_uri": "https://localhost:8080/"
        }
      },
      "execution_count": null,
      "outputs": [
        {
          "output_type": "stream",
          "name": "stdout",
          "text": [
            "Time required to carry out the computation:  1.5334112644195557\n"
          ]
        }
      ]
    }
  ]
}