{
  "nbformat": 4,
  "nbformat_minor": 0,
  "metadata": {
    "colab": {
      "provenance": [],
      "authorship_tag": "ABX9TyMIo/FHBhZRE7rwQ7uK9ylx",
      "include_colab_link": true
    },
    "kernelspec": {
      "name": "python3",
      "display_name": "Python 3"
    },
    "language_info": {
      "name": "python"
    }
  },
  "cells": [
    {
      "cell_type": "markdown",
      "metadata": {
        "id": "view-in-github",
        "colab_type": "text"
      },
      "source": [
        "<a href=\"https://colab.research.google.com/github/trefftzc/cis677/blob/main/SkeletonForProject2.ipynb\" target=\"_parent\"><img src=\"https://colab.research.google.com/assets/colab-badge.svg\" alt=\"Open In Colab\"/></a>"
      ]
    },
    {
      "cell_type": "markdown",
      "source": [
        "A skeleton for project 2. CIS677 - Winter 2024"
      ],
      "metadata": {
        "id": "dcR29tnUyN97"
      }
    },
    {
      "cell_type": "code",
      "execution_count": 9,
      "metadata": {
        "colab": {
          "base_uri": "https://localhost:8080/"
        },
        "id": "CK14ALnkyFRb",
        "outputId": "2a7dc444-7127-4f07-9974-3db248daa597"
      },
      "outputs": [
        {
          "output_type": "stream",
          "name": "stdout",
          "text": [
            "Overwriting project2.py\n"
          ]
        }
      ],
      "source": [
        "%%writefile project2.py\n",
        "import sys\n",
        "import numpy as np\n",
        "import time\n",
        "\n",
        "#\n",
        "# You need to import the numba library\n",
        "#\n",
        "\n",
        "\n",
        "# You need to use the appropriate deccorators before\n",
        "# the function generate_and_multiply\n",
        "\n",
        "def generate_and_multiply(n):\n",
        "  a = np.random.rand(n,n)\n",
        "  b = np.random.rand(n,n)\n",
        "  c = np.zeros((n,n))\n",
        "  start_time = time.time()\n",
        "\n",
        "# Use prange to parallelize the execution of one of these loops\n",
        "\n",
        "  for i in range(n):\n",
        "    for j in range(n):\n",
        "      for k in range(n):\n",
        "        c[i][j] += a[i][k]*b[k][j]\n",
        "\n",
        "  end_time = time.time()\n",
        "  elapsed_time = end_time - start_time\n",
        "  print(\"Time required to carry out the computation: \",elapsed_time)\n",
        "\n",
        "\n",
        "\n",
        "if __name__ == \"__main__\":\n",
        "  # capture the size of the matrices\n",
        "  n = (int)(sys.argv[1])\n",
        "  # generate and multiply the matrices\n",
        "  generate_and_multiply(n)"
      ]
    },
    {
      "cell_type": "code",
      "source": [
        "!python project2.py 100"
      ],
      "metadata": {
        "colab": {
          "base_uri": "https://localhost:8080/"
        },
        "id": "Pf1Pow9LzldT",
        "outputId": "ff058e84-c16a-449c-d882-2044ecdce816"
      },
      "execution_count": 10,
      "outputs": [
        {
          "output_type": "stream",
          "name": "stdout",
          "text": [
            "Time required to carry out the computation:  0.9754800796508789\n"
          ]
        }
      ]
    },
    {
      "cell_type": "code",
      "source": [
        "!python project2.py 200"
      ],
      "metadata": {
        "colab": {
          "base_uri": "https://localhost:8080/"
        },
        "id": "lpAbOBkx0jqT",
        "outputId": "e1bc91e3-4126-4d93-c92b-541427c6f462"
      },
      "execution_count": 11,
      "outputs": [
        {
          "output_type": "stream",
          "name": "stdout",
          "text": [
            "Time required to carry out the computation:  8.029170751571655\n"
          ]
        }
      ]
    },
    {
      "cell_type": "code",
      "source": [
        "!python project2.py 300"
      ],
      "metadata": {
        "colab": {
          "base_uri": "https://localhost:8080/"
        },
        "id": "FWkBxPxA0oo7",
        "outputId": "09743e17-7d3e-4ba1-d06c-23f2478816a9"
      },
      "execution_count": 12,
      "outputs": [
        {
          "output_type": "stream",
          "name": "stdout",
          "text": [
            "Time required to carry out the computation:  28.201449871063232\n"
          ]
        }
      ]
    },
    {
      "cell_type": "code",
      "source": [
        "!python project2.py 400"
      ],
      "metadata": {
        "id": "16IO_Q5Z02jq"
      },
      "execution_count": null,
      "outputs": []
    }
  ]
}