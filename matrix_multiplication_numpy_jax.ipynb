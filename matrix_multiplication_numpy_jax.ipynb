{
  "nbformat": 4,
  "nbformat_minor": 0,
  "metadata": {
    "colab": {
      "provenance": [],
      "authorship_tag": "ABX9TyNui8N0rHHG/jIFp63yqVUN",
      "include_colab_link": true
    },
    "kernelspec": {
      "name": "python3",
      "display_name": "Python 3"
    },
    "language_info": {
      "name": "python"
    },
    "accelerator": "TPU"
  },
  "cells": [
    {
      "cell_type": "markdown",
      "metadata": {
        "id": "view-in-github",
        "colab_type": "text"
      },
      "source": [
        "<a href=\"https://colab.research.google.com/github/trefftzc/cis677/blob/main/matrix_multiplication_numpy_jax.ipynb\" target=\"_parent\"><img src=\"https://colab.research.google.com/assets/colab-badge.svg\" alt=\"Open In Colab\"/></a>"
      ]
    },
    {
      "cell_type": "code",
      "execution_count": null,
      "metadata": {
        "colab": {
          "base_uri": "https://localhost:8080/"
        },
        "id": "xl3PY8I6vYMO",
        "outputId": "d0f66681-b560-4843-c65a-2af95066b586"
      },
      "outputs": [
        {
          "output_type": "stream",
          "name": "stdout",
          "text": [
            "Time required to carry out the computation with numpy:  9.489059448242188e-05\n",
            "55  130  205  280  355  \n",
            "\n",
            "130  330  530  730  930  \n",
            "\n",
            "205  530  855  1180  1505  \n",
            "\n",
            "280  730  1180  1630  2080  \n",
            "\n",
            "355  930  1505  2080  2655  \n",
            "\n",
            "Time required to carry out the computation with jax:  0.0009832382202148438\n",
            "55  130  205  280  355  \n",
            "\n",
            "130  330  530  730  930  \n",
            "\n",
            "205  530  855  1180  1505  \n",
            "\n",
            "280  730  1180  1630  2080  \n",
            "\n",
            "355  930  1505  2080  2655  \n",
            "\n"
          ]
        }
      ],
      "source": [
        "#\n",
        "# Now with numpy\n",
        "#\n",
        "import time\n",
        "import numpy as np\n",
        "import jax.numpy as jnp\n",
        "\n",
        "A = [[1,2,3,4,5],\n",
        "  [6,7,8,9,10],\n",
        "  [11,12,13,14,15],\n",
        "  [16,17,18,19,20],\n",
        "  [21,22,23,24,25]]\n",
        "\n",
        "B = [[1,6,11,16,21],\n",
        "     [2,7,12,17,22],\n",
        "     [3,8,13,18,23],\n",
        "     [4,9,14,19,24],\n",
        "     [5,10,15,20,25]]\n",
        "\n",
        "C = [[0,0,0,0,0],\n",
        "     [0,0,0,0,0],\n",
        "     [0,0,0,0,0],\n",
        "     [0,0,0,0,0],\n",
        "     [0,0,0,0,0]]\n",
        "\n",
        "N = 5\n",
        "\n",
        "A_numpy = np.array(A)\n",
        "B_numpy = np.array(B)\n",
        "C_numpy = np.array(C)\n",
        "\n",
        "\n",
        "start_time = time.time()\n",
        "\n",
        "np.matmul(A_numpy,B_numpy,out=C_numpy)\n",
        "\n",
        "end_time = time.time()\n",
        "elapsed_time = end_time - start_time\n",
        "print(\"Time required to carry out the computation with numpy: \",elapsed_time)\n",
        "\n",
        "for i in range(N):\n",
        "  for j in range(N):\n",
        "    print(C_numpy[i][j],\" \",end=\"\")\n",
        "  print(\"\\n\")\n",
        "\n",
        "# Now with jax\n",
        "\n",
        "A_jax = jnp.array(A)\n",
        "B_jax = jnp.array(B)\n",
        "C_jax = jnp.array(C)\n",
        "\n",
        "start_time = time.time()\n",
        "\n",
        "C_jax = jnp.matmul(A_jax,B_jax)\n",
        "\n",
        "end_time = time.time()\n",
        "elapsed_time = end_time - start_time\n",
        "print(\"Time required to carry out the computation with jax: \",elapsed_time)\n",
        "\n",
        "for i in range(N):\n",
        "  for j in range(N):\n",
        "    print(C_jax[i][j],\" \",end=\"\")\n",
        "  print(\"\\n\")\n"
      ]
    }
  ]
}