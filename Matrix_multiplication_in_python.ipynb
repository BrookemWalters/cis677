{
  "nbformat": 4,
  "nbformat_minor": 0,
  "metadata": {
    "colab": {
      "provenance": [],
      "authorship_tag": "ABX9TyPZcf8hA0iuHrIYywOlaxld",
      "include_colab_link": true
    },
    "kernelspec": {
      "name": "python3",
      "display_name": "Python 3"
    },
    "language_info": {
      "name": "python"
    }
  },
  "cells": [
    {
      "cell_type": "markdown",
      "metadata": {
        "id": "view-in-github",
        "colab_type": "text"
      },
      "source": [
        "<a href=\"https://colab.research.google.com/github/trefftzc/cis677/blob/main/Matrix_multiplication_in_python.ipynb\" target=\"_parent\"><img src=\"https://colab.research.google.com/assets/colab-badge.svg\" alt=\"Open In Colab\"/></a>"
      ]
    },
    {
      "cell_type": "markdown",
      "source": [
        "## Matrix Multiplication in Python"
      ],
      "metadata": {
        "id": "riPP_g69TCqn"
      }
    },
    {
      "cell_type": "markdown",
      "source": [
        "Matrix multiplication is a fundamental operation in linear algebra.\n",
        "\n",
        "The algorithm has been carefully optimized for many different environments.\n",
        "\n",
        "The code below is a starightforward implementation of matrix implementation that follows the definition of the operation."
      ],
      "metadata": {
        "id": "atUzzYD9cGO9"
      }
    },
    {
      "cell_type": "code",
      "execution_count": 1,
      "metadata": {
        "colab": {
          "base_uri": "https://localhost:8080/"
        },
        "id": "GeJV108tTBel",
        "outputId": "c7b64325-7da2-4ce9-89ae-d3a32e2dea41"
      },
      "outputs": [
        {
          "output_type": "stream",
          "name": "stdout",
          "text": [
            "Time required to carry out the computation:  0.0003762245178222656\n",
            "55  130  205  280  355  \n",
            "\n",
            "130  330  530  730  930  \n",
            "\n",
            "205  530  855  1180  1505  \n",
            "\n",
            "280  730  1180  1630  2080  \n",
            "\n",
            "355  930  1505  2080  2655  \n",
            "\n"
          ]
        }
      ],
      "source": [
        "#\n",
        "# A very simple initial version\n",
        "#\n",
        "import time\n",
        "A = [[1,2,3,4,5],\n",
        "  [6,7,8,9,10],\n",
        "  [11,12,13,14,15],\n",
        "  [16,17,18,19,20],\n",
        "  [21,22,23,24,25]]\n",
        "\n",
        "B = [[1,6,11,16,21],\n",
        "     [2,7,12,17,22],\n",
        "     [3,8,13,18,23],\n",
        "     [4,9,14,19,24],\n",
        "     [5,10,15,20,25]]\n",
        "\n",
        "C = [[0,0,0,0,0],\n",
        "     [0,0,0,0,0],\n",
        "     [0,0,0,0,0],\n",
        "     [0,0,0,0,0],\n",
        "     [0,0,0,0,0]]\n",
        "\n",
        "\n",
        "start_time = time.time()\n",
        "N = 5\n",
        "for i in range(N):\n",
        "  for j in range(N):\n",
        "    for k in range(N):\n",
        "      C[i][j] += A[i][k]*B[k][j]\n",
        "\n",
        "end_time = time.time()\n",
        "elapsed_time = end_time - start_time\n",
        "print(\"Time required to carry out the computation: \",elapsed_time)\n",
        "\n",
        "for i in range(N):\n",
        "  for j in range(N):\n",
        "    print(C[i][j],\" \",end=\"\")\n",
        "  print(\"\\n\")\n",
        "\n"
      ]
    },
    {
      "cell_type": "markdown",
      "source": [
        "# Numpy\n",
        "Numpy is a python library that has been written to carry out numerical linear algebra operations, including matrix multiplications.\n",
        "\n",
        "The code below calls the function matmul in the numpy library to perform a matrix multiplication between two matrices.\n",
        "\n",
        "The original two matrices are convert into matrices in numpy format using the array() function in numpy."
      ],
      "metadata": {
        "id": "sEYrDIc0cYtF"
      }
    },
    {
      "cell_type": "code",
      "source": [
        "#\n",
        "# Now with numpy\n",
        "#\n",
        "import time\n",
        "import numpy as np\n",
        "\n",
        "A = [[1,2,3,4,5],\n",
        "  [6,7,8,9,10],\n",
        "  [11,12,13,14,15],\n",
        "  [16,17,18,19,20],\n",
        "  [21,22,23,24,25]]\n",
        "\n",
        "B = [[1,6,11,16,21],\n",
        "     [2,7,12,17,22],\n",
        "     [3,8,13,18,23],\n",
        "     [4,9,14,19,24],\n",
        "     [5,10,15,20,25]]\n",
        "\n",
        "C = [[0,0,0,0,0],\n",
        "     [0,0,0,0,0],\n",
        "     [0,0,0,0,0],\n",
        "     [0,0,0,0,0],\n",
        "     [0,0,0,0,0]]\n",
        "\n",
        "N = 5\n",
        "\n",
        "A_numpy = np.array(A)\n",
        "B_numpy = np.array(B)\n",
        "C_numpy = np.array(C)\n",
        "\n",
        "start_time = time.time()\n",
        "\n",
        "np.matmul(A_numpy,B_numpy,out=C_numpy)\n",
        "\n",
        "end_time = time.time()\n",
        "elapsed_time = end_time - start_time\n",
        "print(\"Time required to carry out the computation: \",elapsed_time)\n",
        "\n",
        "for i in range(N):\n",
        "  for j in range(N):\n",
        "    print(C_numpy[i][j],\" \",end=\"\")\n",
        "  print(\"\\n\")\n"
      ],
      "metadata": {
        "colab": {
          "base_uri": "https://localhost:8080/"
        },
        "id": "bVR4x80IUm0x",
        "outputId": "07ea3dc7-ec8a-42d9-ee2b-5569695cdba7"
      },
      "execution_count": 3,
      "outputs": [
        {
          "output_type": "stream",
          "name": "stdout",
          "text": [
            "Time required to carry out the computation:  9.942054748535156e-05\n",
            "55  130  205  280  355  \n",
            "\n",
            "130  330  530  730  930  \n",
            "\n",
            "205  530  855  1180  1505  \n",
            "\n",
            "280  730  1180  1630  2080  \n",
            "\n",
            "355  930  1505  2080  2655  \n",
            "\n"
          ]
        }
      ]
    },
    {
      "cell_type": "markdown",
      "source": [
        "# JAX\n",
        "\n",
        "JAX is a python library that allows a python programmer to program Google's TPUs (Tensor Processing Units) or NVIDIA's GPUs (Graphical Processing Units).\n",
        "\n",
        "JAX offers, among other features, a set of compatible calls with numpy, including creating a JAX array out of a python array and matrix multiplication.\n"
      ],
      "metadata": {
        "id": "KtIx_GnHjJq3"
      }
    },
    {
      "cell_type": "markdown",
      "source": [
        "Now a version with JAX"
      ],
      "metadata": {
        "id": "mWiDvWgp8mnI"
      }
    },
    {
      "cell_type": "code",
      "source": [
        "#\n",
        "# Now with JAX\n",
        "#\n",
        "import jax\n",
        "import jax.numpy as jnp\n",
        "import time\n",
        "\n",
        "A = [[1,2,3,4,5],\n",
        "  [6,7,8,9,10],\n",
        "  [11,12,13,14,15],\n",
        "  [16,17,18,19,20],\n",
        "  [21,22,23,24,25]]\n",
        "\n",
        "B = [[1,6,11,16,21],\n",
        "     [2,7,12,17,22],\n",
        "     [3,8,13,18,23],\n",
        "     [4,9,14,19,24],\n",
        "     [5,10,15,20,25]]\n",
        "\n",
        "C = [[0,0,0,0,0],\n",
        "     [0,0,0,0,0],\n",
        "     [0,0,0,0,0],\n",
        "     [0,0,0,0,0],\n",
        "     [0,0,0,0,0]]\n",
        "\n",
        "N = 5\n",
        "\n",
        "A_jaxnumpy = jnp.array(A)\n",
        "B_jaxnumpy = jnp.array(B)\n",
        "C_jaxnumpy = jnp.array(C)\n",
        "\n",
        "\n",
        "start_time = time.time()\n",
        "C_jaxnumpy = jnp.matmul(A_jaxnumpy,B_jaxnumpy)\n",
        "end_time = time.time()\n",
        "elapsed_time = end_time - start_time\n",
        "print(\"Time required to carry out the computation: \",elapsed_time)\n",
        "\n",
        "\n",
        "for i in range(N):\n",
        "  for j in range(N):\n",
        "    print(C_jaxnumpy[i][j],\" \",end=\"\")\n",
        "  print(\"\\n\")"
      ],
      "metadata": {
        "colab": {
          "base_uri": "https://localhost:8080/"
        },
        "id": "X16_YGVP8pRR",
        "outputId": "886a0d8c-6908-46b4-beb0-8f349e617d8e"
      },
      "execution_count": 4,
      "outputs": [
        {
          "output_type": "stream",
          "name": "stdout",
          "text": [
            "Time required to carry out the computation:  0.041764259338378906\n",
            "55  130  205  280  355  \n",
            "\n",
            "130  330  530  730  930  \n",
            "\n",
            "205  530  855  1180  1505  \n",
            "\n",
            "280  730  1180  1630  2080  \n",
            "\n",
            "355  930  1505  2080  2655  \n",
            "\n"
          ]
        }
      ]
    }
  ]
}