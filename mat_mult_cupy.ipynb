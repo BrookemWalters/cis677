{
  "nbformat": 4,
  "nbformat_minor": 0,
  "metadata": {
    "colab": {
      "provenance": [],
      "gpuType": "T4",
      "authorship_tag": "ABX9TyN6D+cZfIGSSHSYZmXmXKut",
      "include_colab_link": true
    },
    "kernelspec": {
      "name": "python3",
      "display_name": "Python 3"
    },
    "language_info": {
      "name": "python"
    },
    "accelerator": "GPU"
  },
  "cells": [
    {
      "cell_type": "markdown",
      "metadata": {
        "id": "view-in-github",
        "colab_type": "text"
      },
      "source": [
        "<a href=\"https://colab.research.google.com/github/trefftzc/cis677/blob/main/mat_mult_cupy.ipynb\" target=\"_parent\"><img src=\"https://colab.research.google.com/assets/colab-badge.svg\" alt=\"Open In Colab\"/></a>"
      ]
    },
    {
      "cell_type": "markdown",
      "source": [
        "# Timing matrix multiplications with CuPy\n",
        "\n",
        "Make sure that you select the runtime environment that uses a GPU."
      ],
      "metadata": {
        "id": "CNZRMa5iQjMf"
      }
    },
    {
      "cell_type": "code",
      "execution_count": null,
      "metadata": {
        "colab": {
          "base_uri": "https://localhost:8080/"
        },
        "id": "-EC90XZdVqpQ",
        "outputId": "f0a6d534-dca3-4393-8feb-cb165da2ac7b"
      },
      "outputs": [
        {
          "output_type": "stream",
          "name": "stdout",
          "text": [
            "For size:  500  execution time:  0.0037461023807525634\n",
            "For size:  600  execution time:  0.005865756869316101\n",
            "For size:  700  execution time:  0.004339676856994629\n",
            "For size:  800  execution time:  0.006347993564605713\n"
          ]
        }
      ],
      "source": [
        "import cupy as cu\n",
        "\n",
        "import numpy as np\n",
        "from cupyx.profiler import benchmark\n",
        "\n",
        "\n",
        "\n",
        "def generate_matrices(size):\n",
        "  a = np.random.rand(size,size)\n",
        "  b = np.random.rand(size,size)\n",
        "  return a,b\n",
        "\n",
        "def multiply_matrices(a,b):\n",
        "  c = cu.matmul(a,b)\n",
        "\n",
        "if __name__ == \"__main__\":\n",
        "  sizes = [500,600,700,800]\n",
        "  for s in sizes:\n",
        "    a,b = generate_matrices(s)\n",
        "    a_cupy = cu.array(a)\n",
        "    b_cupy = cu.array(b)\n",
        "\n",
        "    execution_gpu = benchmark( multiply_matrices, (a_cupy,b_cupy), n_repeat=10)\n",
        "    # c_cupy = multiply_matrices(a_cupy,b_cupy)\n",
        "    gpu_avg_time = np.average(execution_gpu.gpu_times)\n",
        "\n",
        "    print(\"For size: \",s,\" execution time: \",gpu_avg_time)\n",
        "    # c = np.matmul(a,b)\n",
        "    # Compare to make sure the results produced by cupy are correct\n",
        "    #cu.testing.assert_array_almost_equal(c,c_cupy,10,\"Results do not match\",verbose=\"True\")"
      ]
    }
  ]
}