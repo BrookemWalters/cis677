{
  "nbformat": 4,
  "nbformat_minor": 0,
  "metadata": {
    "colab": {
      "provenance": [],
      "gpuType": "T4",
      "authorship_tag": "ABX9TyN27KsfdOQ1wlXqVXoCXZif",
      "include_colab_link": true
    },
    "kernelspec": {
      "name": "python3",
      "display_name": "Python 3"
    },
    "language_info": {
      "name": "python"
    },
    "accelerator": "GPU"
  },
  "cells": [
    {
      "cell_type": "markdown",
      "metadata": {
        "id": "view-in-github",
        "colab_type": "text"
      },
      "source": [
        "<a href=\"https://colab.research.google.com/github/trefftzc/cis677/blob/main/C%2B%2Bcode_with_execution.ipynb\" target=\"_parent\"><img src=\"https://colab.research.google.com/assets/colab-badge.svg\" alt=\"Open In Colab\"/></a>"
      ]
    },
    {
      "cell_type": "markdown",
      "source": [
        "## Exploring nvc++ with stdpar and c++17\n"
      ],
      "metadata": {
        "id": "ONG_qEOE55_I"
      }
    },
    {
      "cell_type": "code",
      "execution_count": null,
      "metadata": {
        "colab": {
          "base_uri": "https://localhost:8080/"
        },
        "id": "r_36roQx54P-",
        "outputId": "7c769d45-5ea5-408d-947d-df7adec2b91a"
      },
      "outputs": [
        {
          "output_type": "stream",
          "name": "stdout",
          "text": [
            "Overwriting squareExample.cc\n"
          ]
        }
      ],
      "source": [
        "%%writefile squareExample.cc\n",
        "#include <vector>\n",
        "#include <algorithm>\n",
        "#include <execution>\n",
        "#include <iostream>\n",
        "\n",
        "// Example taken from:\n",
        "// https://docs.nvidia.com/hpc-sdk/archive/20.7/compilers/c++-parallel-algorithms/index.html#supported-gpus\n",
        "//\n",
        "\n",
        "\n",
        " struct squared {\n",
        "    void operator()(int& x) const { x = x * x; }\n",
        "  };\n",
        "\n",
        "int main()\n",
        "{\n",
        "\tstd::vector < int > v(10000);\n",
        "  for(int i = 0;i <  v.size();i++) {\n",
        "    v[i] = i;\n",
        "   }\n",
        " \tstd::for_each(std::execution::par_unseq,\n",
        "                  v.begin(), v.end(), squared{});\n",
        "  for(int i = 0;i < 10;i++) {\n",
        "    std::cout << v[i] << \" \";\n",
        "  }\n",
        "  std::cout << std::endl;\n",
        "}"
      ]
    },
    {
      "cell_type": "markdown",
      "source": [
        "Now compile with nvc++"
      ],
      "metadata": {
        "id": "Qe47qJ9N6IjQ"
      }
    },
    {
      "cell_type": "code",
      "source": [
        "!nvcc  squareExample.cc -o squareExample -std=c++17 -ltbb"
      ],
      "metadata": {
        "id": "xDR3W-m16Lbw"
      },
      "execution_count": null,
      "outputs": []
    },
    {
      "cell_type": "code",
      "source": [
        "!./squareExample"
      ],
      "metadata": {
        "id": "qCgmrLx28dwB",
        "outputId": "d1e228c9-3ac9-4cc0-cab2-5a0c655d2e2d",
        "colab": {
          "base_uri": "https://localhost:8080/"
        }
      },
      "execution_count": null,
      "outputs": [
        {
          "output_type": "stream",
          "name": "stdout",
          "text": [
            "0 1 4 9 16 25 36 49 64 81 \n"
          ]
        }
      ]
    }
  ]
}