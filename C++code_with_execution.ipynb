{
  "nbformat": 4,
  "nbformat_minor": 0,
  "metadata": {
    "colab": {
      "provenance": [],
      "gpuType": "T4",
      "authorship_tag": "ABX9TyNNHl5349LKtOS0FjLF6QCg",
      "include_colab_link": true
    },
    "kernelspec": {
      "name": "python3",
      "display_name": "Python 3"
    },
    "language_info": {
      "name": "python"
    },
    "accelerator": "GPU"
  },
  "cells": [
    {
      "cell_type": "markdown",
      "metadata": {
        "id": "view-in-github",
        "colab_type": "text"
      },
      "source": [
        "<a href=\"https://colab.research.google.com/github/trefftzc/cis677/blob/main/C%2B%2Bcode_with_execution.ipynb\" target=\"_parent\"><img src=\"https://colab.research.google.com/assets/colab-badge.svg\" alt=\"Open In Colab\"/></a>"
      ]
    },
    {
      "cell_type": "markdown",
      "source": [
        "## Exploring nvc++ with stdpar and c++17\n"
      ],
      "metadata": {
        "id": "ONG_qEOE55_I"
      }
    },
    {
      "cell_type": "code",
      "execution_count": null,
      "metadata": {
        "colab": {
          "base_uri": "https://localhost:8080/"
        },
        "id": "r_36roQx54P-",
        "outputId": "c9c96cb0-34a0-49b5-b82e-a908d6961814"
      },
      "outputs": [
        {
          "output_type": "stream",
          "name": "stdout",
          "text": [
            "Writing squareExample.cc\n"
          ]
        }
      ],
      "source": [
        "%%writefile squareExample.cc\n",
        "#include <vector>\n",
        "#include <algorithm>\n",
        "#include <execution>\n",
        "\n",
        "// Example taken from:\n",
        "// https://docs.nvidia.com/hpc-sdk/archive/20.7/compilers/c++-parallel-algorithms/index.html#supported-gpus\n",
        "//\n",
        "\n",
        "\n",
        " struct squared {\n",
        "    void operator()(int& x) const { x = x * x; }\n",
        "  };\n",
        "\n",
        "int main()\n",
        "{\n",
        "\tstd::vector < int > v(10000);\n",
        " \tstd::for_each(std::execution::par_unseq,\n",
        "                  v.begin(), v.end(), squared{});\n",
        "}"
      ]
    },
    {
      "cell_type": "markdown",
      "source": [
        "Now compile with nvc++"
      ],
      "metadata": {
        "id": "Qe47qJ9N6IjQ"
      }
    },
    {
      "cell_type": "code",
      "source": [
        "!nvcc  squareExample.cc -o squareExample -std=c++17 -ltbb"
      ],
      "metadata": {
        "id": "xDR3W-m16Lbw"
      },
      "execution_count": null,
      "outputs": []
    },
    {
      "cell_type": "code",
      "source": [
        "!./squareExample"
      ],
      "metadata": {
        "id": "qCgmrLx28dwB"
      },
      "execution_count": null,
      "outputs": []
    }
  ]
}