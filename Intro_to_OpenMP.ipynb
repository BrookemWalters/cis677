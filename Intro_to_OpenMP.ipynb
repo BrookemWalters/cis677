{
  "nbformat": 4,
  "nbformat_minor": 0,
  "metadata": {
    "colab": {
      "provenance": [],
      "authorship_tag": "ABX9TyMDlQl/zIfAA+kMQpw308LN",
      "include_colab_link": true
    },
    "kernelspec": {
      "name": "python3",
      "display_name": "Python 3"
    },
    "language_info": {
      "name": "python"
    }
  },
  "cells": [
    {
      "cell_type": "markdown",
      "metadata": {
        "id": "view-in-github",
        "colab_type": "text"
      },
      "source": [
        "<a href=\"https://colab.research.google.com/github/trefftzc/cis677/blob/main/Intro_to_OpenMP.ipynb\" target=\"_parent\"><img src=\"https://colab.research.google.com/assets/colab-badge.svg\" alt=\"Open In Colab\"/></a>"
      ]
    },
    {
      "cell_type": "markdown",
      "source": [
        "# An Introduction to OpenMP\n",
        "Examples taken from the book \"Programming your GPU with OpenMP\" by Tom Deakin and Tomothy G. Mattson"
      ],
      "metadata": {
        "id": "yKUEdlc8HtWu"
      }
    },
    {
      "cell_type": "code",
      "execution_count": null,
      "metadata": {
        "colab": {
          "base_uri": "https://localhost:8080/"
        },
        "id": "7RBsqovjHgy9",
        "outputId": "7fc1aa88-e3eb-4949-d5db-3f492adf603c"
      },
      "outputs": [
        {
          "output_type": "stream",
          "name": "stdout",
          "text": [
            "Writing hello.c\n"
          ]
        }
      ],
      "source": [
        "%%writefile hello.c\n",
        "#include <stdio.h>\n",
        "#include <omp.h>\n",
        "int main()\n",
        "{\n",
        "  #pragma omp parallel\n",
        "  {\n",
        "    int id = omp_get_thread_num();\n",
        "    printf(\"hello %d\",id);\n",
        "    printf(\" world %d\\n\",id);\n",
        "  }\n",
        "}\n"
      ]
    },
    {
      "cell_type": "markdown",
      "source": [
        "Now, compile the file hello.c\n",
        "If one is using the gcc compiler, the appropriate flag is\n",
        " -fopenmp"
      ],
      "metadata": {
        "id": "qIv4QLG_IHzs"
      }
    },
    {
      "cell_type": "code",
      "source": [
        "!gcc hello.c -o hello -fopenmp"
      ],
      "metadata": {
        "id": "0WZ4wgWwIOxu"
      },
      "execution_count": null,
      "outputs": []
    },
    {
      "cell_type": "markdown",
      "source": [
        "Now, execute the program:"
      ],
      "metadata": {
        "id": "1xzKxqY1ITrN"
      }
    },
    {
      "cell_type": "code",
      "source": [
        "!./hello"
      ],
      "metadata": {
        "colab": {
          "base_uri": "https://localhost:8080/"
        },
        "id": "TgCWWVBSIWIt",
        "outputId": "2c30e4c5-b3f9-422f-f5a6-1efc50d1a039"
      },
      "execution_count": null,
      "outputs": [
        {
          "output_type": "stream",
          "name": "stdout",
          "text": [
            "hello 1 world 1\n",
            "hello 0 world 0\n"
          ]
        }
      ]
    },
    {
      "cell_type": "markdown",
      "source": [
        "The default number of threads in a COLAB environment is 2.\n",
        "The command lscpu in linux allows us to learn more about the characteristics of the CPU running the system."
      ],
      "metadata": {
        "id": "-wLNF379IbS-"
      }
    },
    {
      "cell_type": "markdown",
      "source": [],
      "metadata": {
        "id": "NA0qgQYANzxo"
      }
    },
    {
      "cell_type": "code",
      "source": [
        "!lscpu"
      ],
      "metadata": {
        "colab": {
          "base_uri": "https://localhost:8080/"
        },
        "id": "5l8UNVzLIf5-",
        "outputId": "71ca6f64-9d6b-4115-dd4e-15e78c97251e"
      },
      "execution_count": null,
      "outputs": [
        {
          "output_type": "stream",
          "name": "stdout",
          "text": [
            "Architecture:            x86_64\n",
            "  CPU op-mode(s):        32-bit, 64-bit\n",
            "  Address sizes:         46 bits physical, 48 bits virtual\n",
            "  Byte Order:            Little Endian\n",
            "CPU(s):                  2\n",
            "  On-line CPU(s) list:   0,1\n",
            "Vendor ID:               GenuineIntel\n",
            "  Model name:            Intel(R) Xeon(R) CPU @ 2.20GHz\n",
            "    CPU family:          6\n",
            "    Model:               79\n",
            "    Thread(s) per core:  2\n",
            "    Core(s) per socket:  1\n",
            "    Socket(s):           1\n",
            "    Stepping:            0\n",
            "    BogoMIPS:            4399.99\n",
            "    Flags:               fpu vme de pse tsc msr pae mce cx8 apic sep mtrr pge mca cmov pat pse36 clf\n",
            "                         lush mmx fxsr sse sse2 ss ht syscall nx pdpe1gb rdtscp lm constant_tsc rep_\n",
            "                         good nopl xtopology nonstop_tsc cpuid tsc_known_freq pni pclmulqdq ssse3 fm\n",
            "                         a cx16 pcid sse4_1 sse4_2 x2apic movbe popcnt aes xsave avx f16c rdrand hyp\n",
            "                         ervisor lahf_lm abm 3dnowprefetch invpcid_single ssbd ibrs ibpb stibp fsgsb\n",
            "                         ase tsc_adjust bmi1 hle avx2 smep bmi2 erms invpcid rtm rdseed adx smap xsa\n",
            "                         veopt arat md_clear arch_capabilities\n",
            "Virtualization features: \n",
            "  Hypervisor vendor:     KVM\n",
            "  Virtualization type:   full\n",
            "Caches (sum of all):     \n",
            "  L1d:                   32 KiB (1 instance)\n",
            "  L1i:                   32 KiB (1 instance)\n",
            "  L2:                    256 KiB (1 instance)\n",
            "  L3:                    55 MiB (1 instance)\n",
            "NUMA:                    \n",
            "  NUMA node(s):          1\n",
            "  NUMA node0 CPU(s):     0,1\n",
            "Vulnerabilities:         \n",
            "  Gather data sampling:  Not affected\n",
            "  Itlb multihit:         Not affected\n",
            "  L1tf:                  Mitigation; PTE Inversion\n",
            "  Mds:                   Vulnerable; SMT Host state unknown\n",
            "  Meltdown:              Vulnerable\n",
            "  Mmio stale data:       Vulnerable\n",
            "  Retbleed:              Vulnerable\n",
            "  Spec rstack overflow:  Not affected\n",
            "  Spec store bypass:     Vulnerable\n",
            "  Spectre v1:            Vulnerable: __user pointer sanitization and usercopy barriers only; no swap\n",
            "                         gs barriers\n",
            "  Spectre v2:            Vulnerable, IBPB: disabled, STIBP: disabled, PBRSB-eIBRS: Not affected\n",
            "  Srbds:                 Not affected\n",
            "  Tsx async abort:       Vulnerable\n"
          ]
        }
      ]
    },
    {
      "cell_type": "markdown",
      "source": [
        "## Calculating Pi\n",
        "This mathematical expression produces the constant pi.\n",
        "\n",
        "$$ \\int_{0}^{1} \\frac{4.0}{(1 + x^2)} dx = \\pi $$\n",
        "\n",
        "It can be approximated as the sum or rectangles\n",
        "\n",
        "$$ \\sum_{i = 0}^{N} F(x_i) Δx ≈ \\pi $$"
      ],
      "metadata": {
        "id": "PlECAOlqOJVx"
      }
    },
    {
      "cell_type": "code",
      "source": [
        "%%writefile pi.c\n",
        "//\n",
        "// Sequential version\n",
        "//\n",
        "#include <stdio.h>\n",
        "#include <omp.h>\n",
        "\n",
        "static long num_steps = 1024*1024*1024;\n",
        "\n",
        "int main()\n",
        "{\n",
        "  double x, pi, step, sum = 0.0;\n",
        "  step = 1.0 / (double) num_steps;\n",
        "\n",
        "  for(int i = 0;i < num_steps;i++) {\n",
        "    x = (i+0.5) * step;\n",
        "    sum += 4.0 / (1.0 + x*x);\n",
        "  }\n",
        "  pi = step * sum;\n",
        "  printf(\"Pi = %lf , with %ld steps\\n \",pi,num_steps);\n",
        "}"
      ],
      "metadata": {
        "colab": {
          "base_uri": "https://localhost:8080/"
        },
        "id": "FDBGQsRmPDOv",
        "outputId": "9a9fa1a0-d2c2-4a57-9db4-20a94c2a1215"
      },
      "execution_count": null,
      "outputs": [
        {
          "output_type": "stream",
          "name": "stdout",
          "text": [
            "Writing pi.c\n"
          ]
        }
      ]
    },
    {
      "cell_type": "code",
      "source": [
        "!gcc pi.c -o pi -O3"
      ],
      "metadata": {
        "id": "ZAU3hV7UPzG3"
      },
      "execution_count": null,
      "outputs": []
    },
    {
      "cell_type": "code",
      "source": [
        "!./pi"
      ],
      "metadata": {
        "colab": {
          "base_uri": "https://localhost:8080/"
        },
        "id": "erzDoBGFP53P",
        "outputId": "1c9b2b76-fcf1-4668-ead7-66d544d72c5a"
      },
      "execution_count": null,
      "outputs": [
        {
          "output_type": "stream",
          "name": "stdout",
          "text": [
            "Pi = 3.141593 , with 1073741824 steps\n",
            " "
          ]
        }
      ]
    },
    {
      "cell_type": "markdown",
      "source": [
        "Using the time command to find out how long does the execution of the program takes.\n"
      ],
      "metadata": {
        "id": "08kzZxvjQA1v"
      }
    },
    {
      "cell_type": "code",
      "source": [
        "!time ./pi"
      ],
      "metadata": {
        "colab": {
          "base_uri": "https://localhost:8080/"
        },
        "id": "R6UqOR_yQFjs",
        "outputId": "e8defa5f-eccb-4041-dcda-1f280aa5b56a"
      },
      "execution_count": null,
      "outputs": [
        {
          "output_type": "stream",
          "name": "stdout",
          "text": [
            "Pi = 3.141593 , with 1073741824 steps\n",
            " \n",
            "real\t0m2.553s\n",
            "user\t0m2.498s\n",
            "sys\t0m0.003s\n"
          ]
        }
      ]
    },
    {
      "cell_type": "code",
      "source": [
        "%%writefile pi_spmd.c\n",
        "//\n",
        "// SPMD version\n",
        "//\n",
        "#include <stdio.h>\n",
        "#include <omp.h>\n",
        "\n",
        "static long num_steps = 1024*1024*1024;\n",
        "\n",
        "int main()\n",
        "{\n",
        "  int numthreads;\n",
        "  double pi, step, full_sum = 0.0;\n",
        "  step = 1.0 / (double) num_steps;\n",
        "\n",
        "#pragma omp parallel\n",
        "  {\n",
        "    int id = omp_get_thread_num();\n",
        "    double x, partial_sum = 0.0;\n",
        "    #pragma omp single\n",
        "      numthreads = omp_get_num_threads();\n",
        "\n",
        "    for(int i = id;i < num_steps;i += numthreads) {\n",
        "      x = (i+0.5) * step;\n",
        "      partial_sum += 4.0 / (1.0 + x*x);\n",
        "    }\n",
        "    #pragma omp critical\n",
        "      full_sum += partial_sum;\n",
        "}\n",
        "  pi = step * full_sum;\n",
        "  printf(\"Pi = %lf , with %ld steps\\n \",pi,num_steps);\n",
        "}"
      ],
      "metadata": {
        "colab": {
          "base_uri": "https://localhost:8080/"
        },
        "id": "mMwSa9CNQ0zP",
        "outputId": "54ed0cae-5001-46a2-fafa-c80081a9d919"
      },
      "execution_count": null,
      "outputs": [
        {
          "output_type": "stream",
          "name": "stdout",
          "text": [
            "Overwriting pi_spmd.c\n"
          ]
        }
      ]
    },
    {
      "cell_type": "markdown",
      "source": [
        "The compilation:"
      ],
      "metadata": {
        "id": "MbmV9-MpSRQ9"
      }
    },
    {
      "cell_type": "code",
      "source": [
        "!gcc pi_spmd.c -o pi_spmd -O3 -fopenmp"
      ],
      "metadata": {
        "id": "qwOedQpjSFO_"
      },
      "execution_count": null,
      "outputs": []
    },
    {
      "cell_type": "markdown",
      "source": [
        "The execution and its timing."
      ],
      "metadata": {
        "id": "cQO_sDpmSS0f"
      }
    },
    {
      "cell_type": "code",
      "source": [
        "!time ./pi_spmd"
      ],
      "metadata": {
        "colab": {
          "base_uri": "https://localhost:8080/"
        },
        "id": "qWLh2L8mSU9X",
        "outputId": "30e22739-7c0f-4f5a-c179-4ee6912f8bbb"
      },
      "execution_count": null,
      "outputs": [
        {
          "output_type": "stream",
          "name": "stdout",
          "text": [
            "Pi = 3.141593 , with 1073741824 steps\n",
            " \n",
            "real\t0m1.924s\n",
            "user\t0m3.635s\n",
            "sys\t0m0.006s\n"
          ]
        }
      ]
    },
    {
      "cell_type": "markdown",
      "source": [
        "## The meaning of the different omp directives\n",
        "\n",
        "1.   #pragma omp parallel: The block that follows will be converted into a thread. Every available thread will execute this block in parallel.\n",
        "2.   #pragma omp single: Only one of the threads will execute the line or block that follows this pragma\n",
        "3.   #pragma omp critical: Only one thread will execute the line below at a time to avoid concurrent access problems.\n",
        "\n",
        "## The meaning of the different omp functions\n",
        "\n",
        "\n",
        "1.   omp_get_thread_num() Every thread has an unique id. The range starts and 0 and goes all the way up to the number of available threads minus one.\n",
        "2.   omp_get_num_threads() Find the total number of threads that will execute\n",
        "\n",
        "\n",
        "\n"
      ],
      "metadata": {
        "id": "k5DqfzBNSq3f"
      }
    },
    {
      "cell_type": "markdown",
      "source": [
        "## A second version with OpenMP"
      ],
      "metadata": {
        "id": "9H47aDW6Wf3X"
      }
    },
    {
      "cell_type": "code",
      "source": [
        "%%writefile pi_parallel_for.c\n",
        "//\n",
        "// Parallel for version\n",
        "//\n",
        "#include <stdio.h>\n",
        "#include <omp.h>\n",
        "\n",
        "static long num_steps = 1024*1024*1024;\n",
        "\n",
        "int main()\n",
        "{\n",
        "  int numthreads;\n",
        "  double x,pi, step, sum = 0.0;\n",
        "  step = 1.0 / (double) num_steps;\n",
        "\n",
        "#pragma omp parallel\n",
        "  {\n",
        "    int id = omp_get_thread_num();\n",
        "    double x, partial_sum = 0.0;\n",
        "    #pragma omp single\n",
        "      numthreads = omp_get_num_threads();\n",
        "\n",
        "    #pragma omp for private(x) reduction(+:sum)\n",
        "    for(int i = 0;i < num_steps;i++) {\n",
        "      x = (i+0.5) * step;\n",
        "      sum = sum + 4.0 / (1.0 + x*x);\n",
        "    }\n",
        "}\n",
        "  pi = step * sum;\n",
        "  printf(\"Pi = %lf , with %ld steps\\n \",pi,num_steps);\n",
        "}"
      ],
      "metadata": {
        "colab": {
          "base_uri": "https://localhost:8080/"
        },
        "id": "NcgUlb72WjGG",
        "outputId": "66b3e241-43d0-4893-deec-fa6e7e70f611"
      },
      "execution_count": null,
      "outputs": [
        {
          "output_type": "stream",
          "name": "stdout",
          "text": [
            "Overwriting pi_parallel_for.c\n"
          ]
        }
      ]
    },
    {
      "cell_type": "markdown",
      "source": [
        "The compilation:"
      ],
      "metadata": {
        "id": "Ko1jYOmBXFFk"
      }
    },
    {
      "cell_type": "code",
      "source": [
        "!gcc pi_parallel_for.c -o pi_parallel_for -O3 -fopenmp"
      ],
      "metadata": {
        "id": "DJE3Q22JXGTF"
      },
      "execution_count": null,
      "outputs": []
    },
    {
      "cell_type": "markdown",
      "source": [
        "The execution and the timing:"
      ],
      "metadata": {
        "id": "vC2cilu7XZaR"
      }
    },
    {
      "cell_type": "code",
      "source": [
        "!time ./pi_parallel_for"
      ],
      "metadata": {
        "colab": {
          "base_uri": "https://localhost:8080/"
        },
        "id": "hBXOkWz_XbSY",
        "outputId": "c2a8ecc8-71ad-4b91-b1da-8f6636a48cb6"
      },
      "execution_count": null,
      "outputs": [
        {
          "output_type": "stream",
          "name": "stdout",
          "text": [
            "Pi = 3.141593 , with 1073741824 steps\n",
            " \n",
            "real\t0m2.089s\n",
            "user\t0m3.632s\n",
            "sys\t0m0.006s\n"
          ]
        }
      ]
    },
    {
      "cell_type": "markdown",
      "source": [
        "## Using tasks to parallelize recursive code"
      ],
      "metadata": {
        "id": "ea1zk_uD91Yi"
      }
    },
    {
      "cell_type": "code",
      "source": [
        "%%writefile pi_with_tasks.c\n",
        "//\n",
        "// Parallel recursive version with tasks\n",
        "//\n",
        "#include <omp.h>\n",
        "#include <stdio.h>\n",
        "static long num_steps = 1024*1024*1024;\n",
        "#define MIN_BLK 1024*256\n",
        "\n",
        "double pi_comp(int Nstart,int Nfinish,double step)\n",
        "{\n",
        "  double x, sum = 0.0,sum1,sum2;\n",
        "  // Base case.\n",
        "  // This is a relatively small sub-block\n",
        "  // Don't use recursion.\n",
        "  if (Nfinish -Nstart < MIN_BLK)\n",
        "  {\n",
        "    for (int i = Nstart;i < Nfinish;i++)\n",
        "    {\n",
        "      x = (i + 0.5) * step;\n",
        "      sum = sum + 4.0 / (1.0 + x * x);\n",
        "    }\n",
        "  }\n",
        "  else // Recursive case\n",
        "  {\n",
        "    int iblk = Nfinish - Nstart;\n",
        "    #pragma omp task shared(sum1)\n",
        "      sum1 = pi_comp(Nstart,Nfinish-iblk/2,step);\n",
        "    #pragma omp task shared(sum2)\n",
        "      sum2 = pi_comp(Nfinish - iblk/2, Nfinish, step);\n",
        "    #pragma om taskwait\n",
        "      sum = sum1 + sum2;\n",
        "  }\n",
        "  return sum;\n",
        "}\n",
        "\n",
        "int main()\n",
        "{\n",
        "  double step,pi,sum;\n",
        "  step = 1.0 / (double) num_steps;\n",
        "  #pragma omp parallel\n",
        "    #pragma omp single\n",
        "      sum = pi_comp(0,num_steps,step);\n",
        "  pi = step * sum;\n",
        "  printf(\"Pi = %lf , with %ld steps\\n \",pi,num_steps);\n",
        "}"
      ],
      "metadata": {
        "colab": {
          "base_uri": "https://localhost:8080/"
        },
        "id": "rGOwlfxP-NZd",
        "outputId": "62fbcaca-7772-4840-cbd9-205b8b20b8a2"
      },
      "execution_count": null,
      "outputs": [
        {
          "output_type": "stream",
          "name": "stdout",
          "text": [
            "Overwriting pi_with_tasks.c\n"
          ]
        }
      ]
    },
    {
      "cell_type": "markdown",
      "source": [
        "The compilation:"
      ],
      "metadata": {
        "id": "rgEOeLcz_ve8"
      }
    },
    {
      "cell_type": "code",
      "source": [
        "!gcc pi_with_tasks.c -o pi_with_tasks -O3 -fopenmp"
      ],
      "metadata": {
        "id": "10zDeUB4_xq9"
      },
      "execution_count": null,
      "outputs": []
    },
    {
      "cell_type": "markdown",
      "source": [
        "The execution and timing:"
      ],
      "metadata": {
        "id": "Fvvj22DC_-OO"
      }
    },
    {
      "cell_type": "code",
      "source": [
        "!time ./pi_with_tasks"
      ],
      "metadata": {
        "colab": {
          "base_uri": "https://localhost:8080/"
        },
        "id": "-36-DTeIAAVr",
        "outputId": "b943f6e3-7c9a-4c40-d6e7-2b9388ec909c"
      },
      "execution_count": null,
      "outputs": [
        {
          "output_type": "stream",
          "name": "stdout",
          "text": [
            "Pi = 0.000000 , with 1073741824 steps\n",
            " \n",
            "real\t0m1.553s\n",
            "user\t0m2.897s\n",
            "sys\t0m0.004s\n"
          ]
        }
      ]
    }
  ]
}